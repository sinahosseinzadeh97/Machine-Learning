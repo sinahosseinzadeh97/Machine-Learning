{
 "cells": [
  {
   "cell_type": "code",
   "execution_count": 1,
   "id": "25321f52",
   "metadata": {},
   "outputs": [],
   "source": [
    "#Import Libray\n",
    "import pandas as pd\n",
    "import numpy as np\n",
    "from sklearn.model_selection import train_test_split\n",
    "from sklearn.preprocessing import StandardScaler"
   ]
  },
  {
   "cell_type": "code",
   "execution_count": 5,
   "id": "0066e619",
   "metadata": {},
   "outputs": [],
   "source": [
    "# Load the Wine Quality Red dataset\n",
    "df = pd.read_csv('WineQualityRed.csv', delimiter=';')"
   ]
  },
  {
   "cell_type": "code",
   "execution_count": 6,
   "id": "5128eb22",
   "metadata": {},
   "outputs": [],
   "source": [
    "# Separate features and target\n",
    "X = df.drop(columns=['quality'])  # Assuming 'quality' is the target variable\n",
    "y = df['quality']"
   ]
  },
  {
   "cell_type": "code",
   "execution_count": 7,
   "id": "d9c879da",
   "metadata": {},
   "outputs": [],
   "source": [
    "# Split the dataset into an 80-20 training-test set\n",
    "X_train, X_test, y_train, y_test = train_test_split(X, y, test_size=0.2, random_state=42)"
   ]
  },
  {
   "cell_type": "code",
   "execution_count": 8,
   "id": "7cd48c8c",
   "metadata": {},
   "outputs": [],
   "source": [
    "# Create an instance of the StandardScaler class\n",
    "scaler = StandardScaler()"
   ]
  },
  {
   "cell_type": "code",
   "execution_count": 10,
   "id": "dd6103f4",
   "metadata": {},
   "outputs": [],
   "source": [
    "# Fit the StandardScaler on the features from the training set and transform it\n",
    "X_train_scaled = scaler.fit_transform(X_train)# Apply the transform to the test set\n",
    "X_test_scaled = scaler.transform(X_test)"
   ]
  },
  {
   "cell_type": "code",
   "execution_count": 11,
   "id": "8c366a3c",
   "metadata": {},
   "outputs": [
    {
     "name": "stdout",
     "output_type": "stream",
     "text": [
      "Scaled Training Set:\n",
      " [[ 0.21833164  0.88971201  0.19209222  0.30972563 -0.04964208  0.69100692\n",
      "   1.04293362  1.84669643  1.09349989  0.45822284  1.12317723]\n",
      " [-1.29016623 -1.78878251  0.65275338 -0.80507963 -0.45521361  2.38847304\n",
      "   3.59387025 -3.00449133 -0.40043872 -0.40119696  1.40827174]\n",
      " [ 1.49475291 -0.78434707  1.01104539 -0.52637831  0.59927236 -0.95796016\n",
      "  -0.99174203  0.76865471 -0.07566946  0.51551749 -0.58738978]\n",
      " [ 0.27635078  0.86181102 -0.06383064 -0.66572897 -0.00908493  0.01202048\n",
      "  -0.71842739  0.08948842  0.05423824 -1.08873281 -0.96751578]\n",
      " [ 0.04427419  2.81487994 -0.62686095  2.39998549 -0.31326357 -0.47296984\n",
      "   0.2229897   1.1998714   0.37900751 -0.9741435  -0.49235828]]\n",
      "\n",
      "Scaled Test Set:\n",
      " [[-3.61859850e-01  1.64286407e-01 -9.85152962e-01 -3.86510130e-02\n",
      "   5.18158057e-01 -1.81975648e-01 -1.99566462e-02  1.75731759e-01\n",
      "  -4.65392578e-01 -1.34389336e-04 -7.77452782e-01]\n",
      " [-3.03840702e-01 -1.70525408e-01 -5.24491803e-01 -6.65728970e-01\n",
      "  -1.30756387e-01  4.97010797e-01  1.68066777e+00 -4.17191190e-01\n",
      "   5.08915214e-01 -1.03143815e+00 -8.72484283e-01]\n",
      " [ 1.37871461e+00  7.78108067e-01 -2.68568937e-01  1.00699644e-01\n",
      "   3.76208022e-01  1.09018543e-01 -3.84376165e-01  1.95450060e+00\n",
      "  -2.05577167e-01  1.83329452e+00 -4.92358280e-01]\n",
      " [ 1.02293339e-01 -3.93733284e-01  1.92092221e-01 -2.12839335e-01\n",
      "  -2.11870693e-01  1.56398950e+00  3.44462872e-01  6.60850535e-01\n",
      "   1.19192097e-01 -6.87670232e-01 -5.87389780e-01]\n",
      " [-9.42051337e-01 -3.93733284e-01 -1.66199791e-01 -5.96053642e-01\n",
      "  -2.32149269e-01  2.06016607e-01 -3.84376165e-01 -1.06401623e+00\n",
      "   5.08915214e-01 -3.43902311e-01  1.72862226e-01]]\n"
     ]
    }
   ],
   "source": [
    "# Print the scaled training and test datasets\n",
    "print(\"Scaled Training Set:\\n\", X_train_scaled[:5])  # Print first 5 rows for brevity\n",
    "print(\"\\nScaled Test Set:\\n\", X_test_scaled[:5])  # Print first 5 rows for brevity"
   ]
  },
  {
   "cell_type": "code",
   "execution_count": null,
   "id": "910a79f8",
   "metadata": {},
   "outputs": [],
   "source": []
  }
 ],
 "metadata": {
  "kernelspec": {
   "display_name": "Python 3 (ipykernel)",
   "language": "python",
   "name": "python3"
  },
  "language_info": {
   "codemirror_mode": {
    "name": "ipython",
    "version": 3
   },
   "file_extension": ".py",
   "mimetype": "text/x-python",
   "name": "python",
   "nbconvert_exporter": "python",
   "pygments_lexer": "ipython3",
   "version": "3.9.12"
  }
 },
 "nbformat": 4,
 "nbformat_minor": 5
}
